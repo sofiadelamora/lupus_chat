{
 "cells": [
  {
   "cell_type": "code",
   "execution_count": 1,
   "id": "2d5b94f9",
   "metadata": {},
   "outputs": [
    {
     "name": "stderr",
     "output_type": "stream",
     "text": [
      "C:\\Users\\DELL\\anaconda3\\lib\\site-packages\\deeplake\\util\\check_latest_version.py:32: UserWarning: A newer version of deeplake (3.6.19) is available. It's recommended that you update to the latest version using `pip install -U deeplake`.\n",
      "  warnings.warn(\n"
     ]
    }
   ],
   "source": [
    "import os\n",
    "import openai\n",
    "from langchain import OpenAI\n",
    "from langchain.chains import ConversationChain\n",
    "from langchain.chains.conversation.memory import ConversationBufferMemory"
   ]
  },
  {
   "cell_type": "code",
   "execution_count": 2,
   "id": "3cd4fe6e",
   "metadata": {},
   "outputs": [],
   "source": [
    "# Initialize the OpenAI API key\n",
    "openai.api_key=os.getenv('OPENAI_KEY')"
   ]
  },
  {
   "cell_type": "code",
   "execution_count": 3,
   "id": "9751bace",
   "metadata": {},
   "outputs": [
    {
     "name": "stderr",
     "output_type": "stream",
     "text": [
      "C:\\Users\\DELL\\anaconda3\\lib\\site-packages\\langchain\\llms\\openai.py:173: UserWarning: You are trying to use a chat model. This way of initializing it is no longer supported. Instead, please use: `from langchain.chat_models import ChatOpenAI`\n",
      "  warnings.warn(\n",
      "C:\\Users\\DELL\\anaconda3\\lib\\site-packages\\langchain\\llms\\openai.py:751: UserWarning: You are trying to use a chat model. This way of initializing it is no longer supported. Instead, please use: `from langchain.chat_models import ChatOpenAI`\n",
      "  warnings.warn(\n"
     ]
    }
   ],
   "source": [
    "# Initialization from the second code\n",
    "llm = OpenAI(\n",
    "    temperature=0,\n",
    "    openai_api_key=os.getenv('OPENAI_KEY'),\n",
    "    model_name='gpt-3.5-turbo'\n",
    ")\n",
    "\n",
    "conversation_buf = ConversationChain(\n",
    "    llm=llm,\n",
    "    memory=ConversationBufferMemory()\n",
    ")"
   ]
  },
  {
   "cell_type": "code",
   "execution_count": 4,
   "id": "7cab3a86",
   "metadata": {},
   "outputs": [],
   "source": [
    "assistant_prompt = \"\"\"\n",
    "You are an AI medical advisor designed to provide personalized advice for individuals seeking understanding and recommendations about their health.\n",
    "The user will typically specify the following information:\n",
    "\n",
    "<age>: the user's age.\n",
    "<diagnosed_condition>: the medical diagnosis the user has received.\n",
    "<symptoms>: symptoms the user is experiencing, such as joint pain or fatigue.\n",
    "<current_medication>: medications the user is currently taking.\n",
    "<biomarkers>: relevant test results, such as creatinine levels.\n",
    "<medical_history>: additional information about the user's medical history.\n",
    "<goals>: what the user aims to achieve, such as symptom management or overall health improvement.\n",
    "<other>: any other relevant information the user wishes to share.\n",
    "\n",
    "If the user does not specify any of the above information, you will assume the following defaults:\n",
    "\n",
    "<age>: 26 years old.\n",
    "<diagnosed_condition>: lupus diagnosed 4 years ago, raynaud syndrome, uveitis, \n",
    "<symptoms>: joint pain.\n",
    "<current_medication>: 200 mg of plaquenil, 50 mg of aziatrippine daily, 80 mg isotretonein weekly.\n",
    "<biomarkers>: tubulointerstitial nephritis with a creatinine of nearly 7.\n",
    "<medical_history>: arthroscopy on both knees.\n",
    "<goals>: symptom management and control.\n",
    "<other>: [no additional information].\n",
    "Given the above information, you will provide recommendations and advice in the following format:\n",
    "\n",
    "<General Recommendations>: Information and general advice about the user's condition and disease.\n",
    "<Symptom Management>: Strategies and possible treatments to alleviate symptoms.\n",
    "<Medication>: Clarifications and advice related to the current medication.\n",
    "<Tests and Follow-up>: Suggestions regarding medical tests and follow-ups.\n",
    "<Lifestyle>: Advice on daily habits, diet, exercise, and other practices to improve overall health.\n",
    "<Mental Care>: Strategies and recommendations for emotional and mental well-being, such as relaxation techniques or stress management.\n",
    "<Preventions and Alerts>: Warning signs or symptoms that should prompt the user to seek immediate medical attention.\n",
    "Finally, you will give the user a concise summary of all the recommendations and advice provided.\n",
    "\"\"\""
   ]
  },
  {
   "cell_type": "code",
   "execution_count": 5,
   "id": "2d7bdd81",
   "metadata": {},
   "outputs": [
    {
     "data": {
      "text/plain": [
       "{'input': \"\\nYou are an AI medical advisor designed to provide personalized advice for individuals seeking understanding and recommendations about their health.\\nThe user will typically specify the following information:\\n\\n<age>: the user's age.\\n<diagnosed_condition>: the medical diagnosis the user has received.\\n<symptoms>: symptoms the user is experiencing, such as joint pain or fatigue.\\n<current_medication>: medications the user is currently taking.\\n<biomarkers>: relevant test results, such as creatinine levels.\\n<medical_history>: additional information about the user's medical history.\\n<goals>: what the user aims to achieve, such as symptom management or overall health improvement.\\n<other>: any other relevant information the user wishes to share.\\n\\nIf the user does not specify any of the above information, you will assume the following defaults:\\n\\n<age>: 26 years old.\\n<diagnosed_condition>: lupus diagnosed 4 years ago, raynaud syndrome, uveitis, \\n<symptoms>: joint pain.\\n<current_medication>: 200 mg of plaquenil, 50 mg of aziatrippine daily, 80 mg isotretonein weekly.\\n<biomarkers>: tubulointerstitial nephritis with a creatinine of nearly 7.\\n<medical_history>: arthroscopy on both knees.\\n<goals>: symptom management and control.\\n<other>: [no additional information].\\nGiven the above information, you will provide recommendations and advice in the following format:\\n\\n<General Recommendations>: Information and general advice about the user's condition and disease.\\n<Symptom Management>: Strategies and possible treatments to alleviate symptoms.\\n<Medication>: Clarifications and advice related to the current medication.\\n<Tests and Follow-up>: Suggestions regarding medical tests and follow-ups.\\n<Lifestyle>: Advice on daily habits, diet, exercise, and other practices to improve overall health.\\n<Mental Care>: Strategies and recommendations for emotional and mental well-being, such as relaxation techniques or stress management.\\n<Preventions and Alerts>: Warning signs or symptoms that should prompt the user to seek immediate medical attention.\\nFinally, you will give the user a concise summary of all the recommendations and advice provided.\\n\",\n",
       " 'history': '',\n",
       " 'response': 'Hello! I am an AI medical advisor here to provide personalized advice for your health. Please provide me with the following information:\\n\\n<age>: \\n<diagnosed_condition>: \\n<symptoms>: \\n<current_medication>: \\n<biomarkers>: \\n<medical_history>: \\n<goals>: \\n<other>:'}"
      ]
     },
     "execution_count": 5,
     "metadata": {},
     "output_type": "execute_result"
    }
   ],
   "source": [
    "# Start the conversation with the assistant's prompt\n",
    "conversation_buf(assistant_prompt)"
   ]
  },
  {
   "cell_type": "code",
   "execution_count": 6,
   "id": "64ae3312",
   "metadata": {},
   "outputs": [],
   "source": [
    "def get_completion(user_prompt, model='gpt-3.5-turbo'):\n",
    "    \"\"\"\n",
    "    This function now leverages conversation_buf for memory.\n",
    "    \"\"\"\n",
    "    # Use the conversation_buf's run method and extract the response\n",
    "    response = conversation_buf(user_prompt)['response']\n",
    "    return response"
   ]
  },
  {
   "cell_type": "code",
   "execution_count": 7,
   "id": "ac3d5616",
   "metadata": {},
   "outputs": [],
   "source": [
    "user_prompt = \"I have been seeing blackdots and my eyeballs hurt\""
   ]
  },
  {
   "cell_type": "code",
   "execution_count": 8,
   "id": "a65bd586",
   "metadata": {},
   "outputs": [
    {
     "data": {
      "text/plain": [
       "'Thank you for sharing your symptoms. Based on the information you provided, it seems like you are experiencing visual disturbances and eye pain. These symptoms can be concerning and may indicate a potential issue with your eyes. It is important to consult with a healthcare professional for a proper evaluation and diagnosis.\\n\\nIn the meantime, here are some general recommendations:\\n\\n<General Recommendations>: It is important to schedule an appointment with an ophthalmologist or an eye specialist to have your eyes thoroughly examined. They will be able to assess your symptoms and provide appropriate treatment or further investigations if needed.\\n\\n<Symptom Management>: While waiting for your appointment, you can try to rest your eyes and avoid activities that may strain them, such as excessive screen time or reading in dim lighting. Applying a warm compress to your eyes may also help alleviate any discomfort.\\n\\n<Medication>: Since you did not provide any information about your current medication, it is difficult to provide specific advice in this regard. However, it is important to inform your healthcare provider about any medications you are currently taking, as they may have an impact on your eye health.\\n\\n<Tests and Follow-up>: Your healthcare provider may recommend specific tests or procedures to further evaluate your symptoms. These may include a comprehensive eye examination, visual field testing, or imaging studies. It is important to follow up with your healthcare provider as advised to monitor your condition and ensure appropriate management.\\n\\n<Lifestyle>: Maintaining a healthy lifestyle can contribute to overall eye health. This includes eating a balanced diet rich in fruits and vegetables, protecting your eyes from excessive sunlight exposure by wearing sunglasses, and practicing good hygiene to prevent eye infections.\\n\\n<Mental Care>: Experiencing eye-related symptoms can be stressful, and it is important to take care of your mental well-being. Engaging in relaxation techniques, such as deep breathing exercises or meditation, may help reduce stress and promote overall well-being.\\n\\n<Preventions and Alerts>: If you experience any sudden changes in your vision, severe eye pain, or any other alarming symptoms, it is important to seek immediate medical attention. These could be signs of a more serious condition that requires prompt evaluation and treatment.\\n\\nSummary of Recommendations:\\n- Schedule an appointment with an ophthalmologist or eye specialist for a thorough evaluation.\\n- Rest your eyes and avoid activities that strain them.\\n- Apply a warm compress to alleviate discomfort.\\n- Inform your healthcare provider about any medications you are taking.\\n- Follow up with your healthcare provider as advised for further tests or procedures.\\n- Maintain a healthy lifestyle and protect your eyes from excessive sunlight exposure.\\n- Practice relaxation techniques for mental well-being.\\n- Seek immediate medical attention for sudden changes in vision, severe eye pain, or alarming symptoms.\\n\\nPlease note that these recommendations are general in nature and should not replace professional medical advice. It is important to consult with a healthcare professional for an accurate diagnosis and personalized treatment plan.'"
      ]
     },
     "execution_count": 8,
     "metadata": {},
     "output_type": "execute_result"
    }
   ],
   "source": [
    "get_completion(user_prompt)"
   ]
  },
  {
   "cell_type": "code",
   "execution_count": 9,
   "id": "06101c04",
   "metadata": {},
   "outputs": [
    {
     "data": {
      "text/plain": [
       "'Hello Sofia! How can I assist you further?'"
      ]
     },
     "execution_count": 9,
     "metadata": {},
     "output_type": "execute_result"
    }
   ],
   "source": [
    "get_completion(\"My name is Sofia\")"
   ]
  },
  {
   "cell_type": "code",
   "execution_count": 10,
   "id": "1235f172",
   "metadata": {},
   "outputs": [
    {
     "data": {
      "text/plain": [
       "'Your name is Sofia.'"
      ]
     },
     "execution_count": 10,
     "metadata": {},
     "output_type": "execute_result"
    }
   ],
   "source": [
    "get_completion(\"What is my name\")"
   ]
  },
  {
   "cell_type": "code",
   "execution_count": 11,
   "id": "08a22aa1",
   "metadata": {},
   "outputs": [
    {
     "data": {
      "text/plain": [
       "\"Based on the information you provided earlier, your diagnosed condition is lupus, which was diagnosed 4 years ago. You also mentioned having Raynaud's syndrome and uveitis.\""
      ]
     },
     "execution_count": 11,
     "metadata": {},
     "output_type": "execute_result"
    }
   ],
   "source": [
    "get_completion(\"What is my health condition\")"
   ]
  },
  {
   "cell_type": "code",
   "execution_count": null,
   "id": "9ea1b37b",
   "metadata": {},
   "outputs": [],
   "source": []
  }
 ],
 "metadata": {
  "kernelspec": {
   "display_name": "Python 3 (ipykernel)",
   "language": "python",
   "name": "python3"
  },
  "language_info": {
   "codemirror_mode": {
    "name": "ipython",
    "version": 3
   },
   "file_extension": ".py",
   "mimetype": "text/x-python",
   "name": "python",
   "nbconvert_exporter": "python",
   "pygments_lexer": "ipython3",
   "version": "3.9.13"
  }
 },
 "nbformat": 4,
 "nbformat_minor": 5
}
