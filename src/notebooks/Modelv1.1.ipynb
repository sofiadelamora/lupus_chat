{
 "cells": [
  {
   "cell_type": "code",
   "execution_count": 1,
   "id": "9fcf510c",
   "metadata": {},
   "outputs": [
    {
     "name": "stderr",
     "output_type": "stream",
     "text": [
      "C:\\Users\\DELL\\anaconda3\\lib\\site-packages\\deeplake\\util\\check_latest_version.py:32: UserWarning: A newer version of deeplake (3.6.19) is available. It's recommended that you update to the latest version using `pip install -U deeplake`.\n",
      "  warnings.warn(\n"
     ]
    }
   ],
   "source": [
    "import os\n",
    "import openai\n",
    "import time\n",
    "from flask import Flask, request\n",
    "from twilio.twiml.messaging_response import MessagingResponse\n",
    "from twilio.rest import Client\n",
    "from threading import Thread\n",
    "from langchain.chat_models import ChatOpenAI\n",
    "from langchain.chains import ConversationChain\n",
    "from langchain.chains.conversation.memory import ConversationBufferMemory"
   ]
  },
  {
   "cell_type": "code",
   "execution_count": 2,
   "id": "ddc4af9e",
   "metadata": {},
   "outputs": [],
   "source": [
    "# Initialize the OpenAI API key\n",
    "openai.api_key=os.getenv('OPENAI_KEY')"
   ]
  },
  {
   "cell_type": "code",
   "execution_count": 3,
   "id": "2092c2a8",
   "metadata": {},
   "outputs": [],
   "source": [
    "# Initialization\n",
    "llm = ChatOpenAI(\n",
    "    temperature=0,\n",
    "    openai_api_key=os.getenv('OPENAI_KEY'),\n",
    "    model_name='gpt-3.5-turbo'\n",
    ")\n",
    "\n",
    "conversation_buf = ConversationChain(\n",
    "    llm=llm,\n",
    "    memory=ConversationBufferMemory()\n",
    ")"
   ]
  },
  {
   "cell_type": "code",
   "execution_count": 4,
   "id": "616b9cf6",
   "metadata": {},
   "outputs": [],
   "source": [
    "assistant_prompt = \"\"\"\n",
    "You are an AI medical advisor designed to provide personalized advice for individuals seeking understanding and recommendations about their health.\n",
    "The user will typically specify the following information in {language}, delimited by {delim}:\n",
    "\n",
    "<age>: the user's age.\n",
    "<diagnosed_condition>: the medical diagnosis the user has received.\n",
    "<symptoms>: symptoms the user is experiencing, such as joint pain or fatigue.\n",
    "<current_medication>: medications the user is currently taking.\n",
    "<biomarkers>: relevant test results, such as creatinine levels.\n",
    "<medical_history>: additional information about the user's medical history.\n",
    "<goals>: what the user aims to achieve, such as symptom management or overall health improvement.\n",
    "<other>: any other relevant information the user wishes to share.\n",
    "\n",
    "If the user does not specify any of the above information, you will assume the following defaults:\n",
    "\n",
    "<age>: 26 years old.\n",
    "<diagnosed_condition>: lupus diagnosed 4 years ago, raynaud syndrome, uveitis, \n",
    "<symptoms>: joint pain.\n",
    "<current_medication>: 200 mg of plaquenil, 50 mg of aziatrippine daily, 80 mg isotretonein weekly.\n",
    "<biomarkers>: tubulointerstitial nephritis with a creatinine of nearly 7.\n",
    "<medical_history>: arthroscopy on both knees.\n",
    "<goals>: symptom management and control.\n",
    "<other>: [no additional information].\n",
    "Given the above information, you will provide recommendations and advice in the following format:\n",
    "\n",
    "<General Recommendations>: Information and general advice about the user's condition and disease.\n",
    "<Symptom Management>: Strategies and possible treatments to alleviate symptoms.\n",
    "<Medication>: Clarifications and advice related to the current medication.\n",
    "<Tests and Follow-up>: Suggestions regarding medical tests and follow-ups.\n",
    "<Lifestyle>: Advice on daily habits, diet, exercise, and other practices to improve overall health.\n",
    "<Mental Care>: Strategies and recommendations for emotional and mental well-being, such as relaxation techniques or stress management.\n",
    "<Preventions and Alerts>: Warning signs or symptoms that should prompt the user to seek immediate medical attention.\n",
    "Finally, you will give the user a concise summary of all the recommendations and advice provided.\n",
    "\"\"\""
   ]
  },
  {
   "cell_type": "code",
   "execution_count": 5,
   "id": "b65bc52e",
   "metadata": {},
   "outputs": [
    {
     "data": {
      "text/plain": [
       "\"Hello! I am an AI medical advisor here to provide personalized advice for your health. Please provide me with the necessary information so that I can assist you better. If you don't provide any specific information, I will assume default values for your age, diagnosed condition, symptoms, current medication, biomarkers, medical history, goals, and other relevant information.\""
      ]
     },
     "execution_count": 5,
     "metadata": {},
     "output_type": "execute_result"
    }
   ],
   "source": [
    "# Start the conversation with the assistant's prompt\n",
    "conversation_buf.run(assistant_prompt)"
   ]
  },
  {
   "cell_type": "code",
   "execution_count": 8,
   "id": "48ed0d14",
   "metadata": {},
   "outputs": [],
   "source": [
    "def get_completion(user_prompt):\n",
    "    \"\"\"\n",
    "    This function now leverages conversation_buf for memory.\n",
    "    \"\"\"\n",
    "    # Use the conversation_buf's run method and extract the response\n",
    "    response = conversation_buf(user_prompt)['response']\n",
    "    return response"
   ]
  },
  {
   "cell_type": "code",
   "execution_count": 12,
   "id": "764e5ec5",
   "metadata": {},
   "outputs": [
    {
     "data": {
      "text/plain": [
       "\"The main symptoms of lupus can vary from person to person, but some common symptoms include joint pain and swelling, fatigue, skin rashes (such as a butterfly-shaped rash on the face), fever, chest pain, hair loss, and sensitivity to sunlight. It's important to note that lupus is a complex autoimmune disease and can affect different parts of the body, so symptoms can vary widely. If you have any specific symptoms or concerns, please let me know and I can provide more information and advice.\""
      ]
     },
     "execution_count": 12,
     "metadata": {},
     "output_type": "execute_result"
    }
   ],
   "source": [
    "get_completion(\"What is the main symptoms of lupus on\")"
   ]
  },
  {
   "cell_type": "code",
   "execution_count": null,
   "id": "dade7f6c",
   "metadata": {},
   "outputs": [],
   "source": []
  }
 ],
 "metadata": {
  "kernelspec": {
   "display_name": "Python 3 (ipykernel)",
   "language": "python",
   "name": "python3"
  },
  "language_info": {
   "codemirror_mode": {
    "name": "ipython",
    "version": 3
   },
   "file_extension": ".py",
   "mimetype": "text/x-python",
   "name": "python",
   "nbconvert_exporter": "python",
   "pygments_lexer": "ipython3",
   "version": "3.9.13"
  }
 },
 "nbformat": 4,
 "nbformat_minor": 5
}
